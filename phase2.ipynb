{
  "nbformat": 4,
  "nbformat_minor": 0,
  "metadata": {
    "colab": {
      "provenance": [],
      "gpuType": "T4"
    },
    "kernelspec": {
      "name": "python3",
      "display_name": "Python 3"
    },
    "language_info": {
      "name": "python"
    },
    "accelerator": "GPU"
  },
  "cells": [
    {
      "cell_type": "code",
      "source": [
        "import pandas as pd\n",
        "from sklearn.cluster import KMeans\n",
        "from sklearn.preprocessing import StandardScaler\n",
        "\n",
        "# Loading the dataset\n",
        "df = pd.read_csv('NATOPS_sid_TRAIN.csv')\n",
        "\n",
        "\n"
      ],
      "metadata": {
        "id": "Zk6BKYpdgasu"
      },
      "execution_count": null,
      "outputs": []
    },
    {
      "cell_type": "code",
      "source": [
        "# Standardizing\n",
        "scaler = StandardScaler()\n",
        "scaled_features = scaler.fit_transform(df.drop(['isTest', 'sid', 'class'], axis=1))\n",
        "\n",
        "# Task 1: Finding Clusters\n",
        "kmeans = KMeans(n_clusters=5, random_state=42)\n",
        "df['cluster'] = kmeans.fit_predict(scaled_features)\n",
        "\n"
      ],
      "metadata": {
        "colab": {
          "base_uri": "https://localhost:8080/"
        },
        "id": "yrV_ykgMgkZW",
        "outputId": "7c841e88-76cb-40a9-d60e-6ea5c726c15f"
      },
      "execution_count": null,
      "outputs": [
        {
          "output_type": "stream",
          "name": "stderr",
          "text": [
            "/usr/local/lib/python3.10/dist-packages/sklearn/cluster/_kmeans.py:870: FutureWarning: The default value of `n_init` will change from 10 to 'auto' in 1.4. Set the value of `n_init` explicitly to suppress the warning\n",
            "  warnings.warn(\n"
          ]
        }
      ]
    },
    {
      "cell_type": "code",
      "source": [
        "# Task 2: Generating Atomic Units Data\n",
        "ratios = df.groupby('sid')['cluster'].value_counts(normalize=True).unstack(fill_value=0)\n",
        "\n"
      ],
      "metadata": {
        "id": "mk1vstbrgl8W"
      },
      "execution_count": null,
      "outputs": []
    },
    {
      "cell_type": "code",
      "source": [
        "# Merging with the original data\n",
        "final_df = df[['isTest', 'sid', 'class']].drop_duplicates().merge(ratios, on='sid')\n",
        "\n",
        "\n",
        "\n"
      ],
      "metadata": {
        "id": "QjdEOFwrgnuL"
      },
      "execution_count": null,
      "outputs": []
    },
    {
      "cell_type": "code",
      "source": [
        "# Task 3: Final Output\n",
        "final_df.to_csv('final_output.csv', index=False)\n",
        "\n",
        "# Printing first five rows\n",
        "print(final_df.head())"
      ],
      "metadata": {
        "colab": {
          "base_uri": "https://localhost:8080/"
        },
        "id": "yJ6gHThOgpNU",
        "outputId": "356aba0c-d456-4edd-f922-d77880567b99"
      },
      "execution_count": null,
      "outputs": [
        {
          "output_type": "stream",
          "name": "stdout",
          "text": [
            "   isTest  sid  class         0         1         2         3         4\n",
            "0       0    1      3  0.411765  0.215686  0.137255  0.019608  0.215686\n",
            "1       0    2      2  0.647059  0.000000  0.000000  0.352941  0.000000\n",
            "2       0    3      2  0.666667  0.000000  0.000000  0.333333  0.000000\n",
            "3       0    4      3  0.372549  0.274510  0.137255  0.000000  0.215686\n",
            "4       0    5      2  0.607843  0.000000  0.000000  0.392157  0.000000\n"
          ]
        }
      ]
    },
    {
      "cell_type": "markdown",
      "source": [
        "**With 10 Fold cross validation**"
      ],
      "metadata": {
        "id": "jjXO0Hy1l58E"
      }
    },
    {
      "cell_type": "code",
      "source": [
        "import pandas as pd\n",
        "from sklearn.cluster import KMeans\n",
        "from sklearn.model_selection import KFold\n",
        "from sklearn.preprocessing import StandardScaler\n",
        "import numpy as np\n"
      ],
      "metadata": {
        "id": "RbC3Tb6rl29u"
      },
      "execution_count": null,
      "outputs": []
    },
    {
      "cell_type": "code",
      "source": [
        "# Loading the dataset\n",
        "df = pd.read_csv('NATOPS_sid_TRAIN.csv')\n",
        "\n",
        "# Standardizing\n",
        "scaler = StandardScaler()\n",
        "scaled_features = scaler.fit_transform(df.drop(['isTest', 'sid', 'class'], axis=1))\n",
        "\n",
        "#KFold\n",
        "kf = KFold(n_splits=10, shuffle=True, random_state=42)\n",
        "\n",
        "# Placeholder for cluster consistency checks\n",
        "cluster_assignments = []\n",
        "\n",
        "for train_index, test_index in kf.split(scaled_features):\n",
        "    # Splitting the dataset\n",
        "    X_train, X_test = scaled_features[train_index], scaled_features[test_index]\n",
        "    train_sids, test_sids = df.iloc[train_index]['sid'], df.iloc[test_index]['sid']\n",
        "\n",
        "    # Applying KMeans\n",
        "    kmeans = KMeans(n_clusters=5, random_state=42)\n",
        "    kmeans.fit(X_train)\n",
        "\n",
        "    # Assigning the clusters to test data\n",
        "    test_clusters = kmeans.predict(X_test)\n",
        "\n",
        "    # Store cluster assignments with corresponding sids for consistency check\n",
        "    cluster_assignments.append(pd.DataFrame({'sid': test_sids, 'cluster': test_clusters}))\n",
        "\n",
        "# Concatenate all test fold cluster assignments\n",
        "all_test_assignments = pd.concat(cluster_assignments)\n",
        "\n",
        "# Calculate the ratio of each cluster for each 'sid'\n",
        "ratios = all_test_assignments.groupby('sid')['cluster'].value_counts(normalize=True).unstack(fill_value=0)\n",
        "\n",
        "# Merging with the original data\n",
        "final_df = df[['isTest', 'sid', 'class']].drop_duplicates().merge(ratios, on='sid')\n",
        "\n"
      ],
      "metadata": {
        "colab": {
          "base_uri": "https://localhost:8080/"
        },
        "id": "7i4kksRti5R7",
        "outputId": "6433d2dd-e303-41a4-bb37-c17fc6d8b998"
      },
      "execution_count": null,
      "outputs": [
        {
          "output_type": "stream",
          "name": "stderr",
          "text": [
            "/usr/local/lib/python3.10/dist-packages/sklearn/cluster/_kmeans.py:870: FutureWarning: The default value of `n_init` will change from 10 to 'auto' in 1.4. Set the value of `n_init` explicitly to suppress the warning\n",
            "  warnings.warn(\n",
            "/usr/local/lib/python3.10/dist-packages/sklearn/cluster/_kmeans.py:870: FutureWarning: The default value of `n_init` will change from 10 to 'auto' in 1.4. Set the value of `n_init` explicitly to suppress the warning\n",
            "  warnings.warn(\n",
            "/usr/local/lib/python3.10/dist-packages/sklearn/cluster/_kmeans.py:870: FutureWarning: The default value of `n_init` will change from 10 to 'auto' in 1.4. Set the value of `n_init` explicitly to suppress the warning\n",
            "  warnings.warn(\n",
            "/usr/local/lib/python3.10/dist-packages/sklearn/cluster/_kmeans.py:870: FutureWarning: The default value of `n_init` will change from 10 to 'auto' in 1.4. Set the value of `n_init` explicitly to suppress the warning\n",
            "  warnings.warn(\n",
            "/usr/local/lib/python3.10/dist-packages/sklearn/cluster/_kmeans.py:870: FutureWarning: The default value of `n_init` will change from 10 to 'auto' in 1.4. Set the value of `n_init` explicitly to suppress the warning\n",
            "  warnings.warn(\n",
            "/usr/local/lib/python3.10/dist-packages/sklearn/cluster/_kmeans.py:870: FutureWarning: The default value of `n_init` will change from 10 to 'auto' in 1.4. Set the value of `n_init` explicitly to suppress the warning\n",
            "  warnings.warn(\n",
            "/usr/local/lib/python3.10/dist-packages/sklearn/cluster/_kmeans.py:870: FutureWarning: The default value of `n_init` will change from 10 to 'auto' in 1.4. Set the value of `n_init` explicitly to suppress the warning\n",
            "  warnings.warn(\n",
            "/usr/local/lib/python3.10/dist-packages/sklearn/cluster/_kmeans.py:870: FutureWarning: The default value of `n_init` will change from 10 to 'auto' in 1.4. Set the value of `n_init` explicitly to suppress the warning\n",
            "  warnings.warn(\n",
            "/usr/local/lib/python3.10/dist-packages/sklearn/cluster/_kmeans.py:870: FutureWarning: The default value of `n_init` will change from 10 to 'auto' in 1.4. Set the value of `n_init` explicitly to suppress the warning\n",
            "  warnings.warn(\n",
            "/usr/local/lib/python3.10/dist-packages/sklearn/cluster/_kmeans.py:870: FutureWarning: The default value of `n_init` will change from 10 to 'auto' in 1.4. Set the value of `n_init` explicitly to suppress the warning\n",
            "  warnings.warn(\n"
          ]
        }
      ]
    },
    {
      "cell_type": "code",
      "source": [
        "# Saving to CSV\n",
        "final_df.to_csv('final_output_with_cross_validation.csv', index=False)\n",
        "\n",
        "# Printing first five rows\n",
        "print(final_df.head())\n",
        "\n"
      ],
      "metadata": {
        "colab": {
          "base_uri": "https://localhost:8080/"
        },
        "id": "cDBtTH28lNls",
        "outputId": "021d73ee-c220-4787-ea4e-c04d866fa532"
      },
      "execution_count": null,
      "outputs": [
        {
          "output_type": "stream",
          "name": "stdout",
          "text": [
            "   isTest  sid  class         0         1         2         3         4\n",
            "0       0    1      3  0.274510  0.235294  0.137255  0.117647  0.235294\n",
            "1       0    2      2  0.450980  0.352941  0.078431  0.078431  0.039216\n",
            "2       0    3      2  0.372549  0.372549  0.019608  0.117647  0.117647\n",
            "3       0    4      3  0.156863  0.176471  0.098039  0.235294  0.333333\n",
            "4       0    5      2  0.392157  0.313725  0.019608  0.196078  0.078431\n"
          ]
        }
      ]
    },
    {
      "cell_type": "code",
      "source": [],
      "metadata": {
        "id": "YZipSfXK__cd"
      },
      "execution_count": null,
      "outputs": []
    }
  ]
}